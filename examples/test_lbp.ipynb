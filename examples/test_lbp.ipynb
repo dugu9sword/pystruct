{
 "cells": [
  {
   "cell_type": "code",
   "execution_count": 1,
   "metadata": {},
   "outputs": [],
   "source": [
    "%load_ext autoreload\n",
    "%autoreload 2"
   ]
  },
  {
   "cell_type": "code",
   "execution_count": 2,
   "metadata": {},
   "outputs": [],
   "source": [
    "import numpy as np\n",
    "import torch\n",
    "from pystruct.inference import compute_energy\n",
    "from pystruct.inference.maxprod import iterative_max_product, tree_max_product\n",
    "from pystruct.inference.inference_methods import inference_ad3, inference_qpbo, inference_max_product\n",
    "from pystruct.utils import make_grid_edges\n",
    "from pystruct.inference.lbp import lbp_plus, compute_energy_plus\n",
    "import einops\n",
    "from scipy import sparse\n",
    "from functools import partial\n",
    "from matplotlib import pyplot as plt"
   ]
  },
  {
   "cell_type": "markdown",
   "metadata": {},
   "source": [
    "# Fast Implementation of LBP"
   ]
  },
  {
   "cell_type": "markdown",
   "metadata": {},
   "source": [
    "## Tests on Potts Model"
   ]
  },
  {
   "cell_type": "code",
   "execution_count": 3,
   "metadata": {},
   "outputs": [],
   "source": [
    "POTTS = 'POTTS'\n",
    "CURRENT_CELL = POTTS\n",
    "\n",
    "size = 10\n",
    "n_states = 10\n",
    "\n",
    "rnd = np.random.RandomState(2)\n",
    "x = rnd.normal(size=(size, size, n_states))\n",
    "binary_edges = make_grid_edges(x)\n",
    "binary_potentials = rnd.normal(size=(binary_edges.shape[0], n_states, n_states))\n",
    "unary_potentials = x.reshape(-1, n_states)\n",
    "args = (unary_potentials, binary_potentials, binary_edges)\n",
    "E = partial(compute_energy, *args)"
   ]
  },
  {
   "cell_type": "markdown",
   "metadata": {},
   "source": [
    "### Benchmark on different methods"
   ]
  },
  {
   "cell_type": "code",
   "execution_count": null,
   "metadata": {},
   "outputs": [],
   "source": [
    "assert CURRENT_CELL == POTTS\n",
    "\n",
    "%timeit lbp_plus(*args)\n",
    "%timeit lbp_plus(*args, max_iter=30)\n",
    "%timeit iterative_max_product(*args)\n",
    "# ad3 too slow, about 20s per loop\n",
    "# %timeit inference_ad3(*args)"
   ]
  },
  {
   "cell_type": "code",
   "execution_count": 4,
   "metadata": {},
   "outputs": [
    {
     "name": "stdout",
     "output_type": "stream",
     "text": [
      "tensor([8, 1, 9, 5, 3, 8, 5, 1, 3, 1, 6, 8, 5, 8, 5, 0, 8, 9, 9, 8, 3, 5, 6, 7,\n",
      "        6, 2, 6, 8, 9, 8, 1, 7, 1, 9, 1, 3, 2, 1, 2, 3, 4, 2, 4, 8, 9, 3, 5, 5,\n",
      "        7, 9, 7, 5, 2, 7, 1, 8, 6, 4, 4, 4, 6, 1, 3, 1, 6, 3, 5, 9, 9, 1, 0, 6,\n",
      "        6, 8, 4, 8, 4, 5, 2, 6, 8, 3, 9, 3, 7, 4, 0, 4, 5, 6, 9, 9, 4, 6, 0, 6,\n",
      "        9, 4, 8, 3])\n",
      "305.28081933357555\n"
     ]
    }
   ],
   "source": [
    "labels = lbp_plus(\n",
    "    torch.tensor(unary_potentials, dtype=torch.float32), \n",
    "    torch.tensor(binary_potentials, dtype=torch.float32), \n",
    "    torch.tensor(binary_edges, dtype=torch.long)\n",
    ")\n",
    "print(labels)\n",
    "print(E(labels))"
   ]
  },
  {
   "cell_type": "code",
   "execution_count": 5,
   "metadata": {},
   "outputs": [
    {
     "name": "stdout",
     "output_type": "stream",
     "text": [
      "parallel\n",
      "305.28081933357555\n",
      "305.28081933357555\n",
      "308.015437691316\n",
      "sequential\n",
      "309.4690626835955\n",
      "309.4690626835955\n",
      "ad3\n",
      "297.59876799000085\n"
     ]
    }
   ],
   "source": [
    "assert CURRENT_CELL == POTTS\n",
    "\n",
    "# larger is better\n",
    "print(\"parallel\")\n",
    "print(E(lbp_plus(*args)))\n",
    "print(E(lbp_plus(*args, track_best=True)))\n",
    "print(E(lbp_plus(*args, max_iter=30, track_best=True)))\n",
    "print(\"sequential\")\n",
    "print(E(iterative_max_product(*args)))\n",
    "print(E(iterative_max_product(*args, track_best=True)))\n",
    "print(\"ad3\")\n",
    "print(E(inference_ad3(*args)))\n",
    "\n",
    "# not supported on Mac\n",
    "# qpbo = inference_qpbo(*args)\n",
    "# print(E(qpbo))"
   ]
  },
  {
   "cell_type": "markdown",
   "metadata": {},
   "source": [
    "### Benchmark on different hyper-parameters"
   ]
  },
  {
   "cell_type": "code",
   "execution_count": 51,
   "metadata": {},
   "outputs": [
    {
     "name": "stderr",
     "output_type": "stream",
     "text": [
      "/Users/admin/opt/miniconda3/envs/pystruct3.7/lib/python3.7/site-packages/ipykernel_launcher.py:17: UserWarning: FixedFormatter should only be used together with FixedLocator\n",
      "/Users/admin/opt/miniconda3/envs/pystruct3.7/lib/python3.7/site-packages/ipykernel_launcher.py:18: UserWarning: FixedFormatter should only be used together with FixedLocator\n"
     ]
    },
    {
     "data": {
      "text/plain": [
       "<matplotlib.colorbar.Colorbar at 0x7fab816dbd10>"
      ]
     },
     "execution_count": 51,
     "metadata": {},
     "output_type": "execute_result"
    },
    {
     "data": {
      "image/png": "[encoded data removed]",
      "text/plain": [
       "<Figure size 432x288 with 2 Axes>"
      ]
     },
     "metadata": {
      "needs_background": "light"
     },
     "output_type": "display_data"
    }
   ],
   "source": [
    "assert CURRENT_CELL == POTTS\n",
    "\n",
    "iters = [2, 5, 10, 20, 40]\n",
    "dampings = [0.1, 0.3, 0.4, 0.5, 0.6, 0.7, 0.9]\n",
    "energies = np.zeros(shape=[len(iters), len(dampings)])\n",
    "\n",
    "for i, iter_num in enumerate(iters):\n",
    "    for j, damping in enumerate(dampings):\n",
    "        res = lbp_plus(*args, max_iter=iter_num, damping=damping)\n",
    "        energies[i][j] = compute_energy_plus(*args, labels=res)\n",
    "\n",
    "fig, ax = plt.subplots(1,1)\n",
    "\n",
    "ax.imshow(energies)\n",
    "img = ax.imshow(energies)\n",
    "\n",
    "ax.set_yticklabels(list(map(str, [None] + iters)))\n",
    "ax.set_xticklabels(list(map(str, [None] + dampings)))\n",
    "\n",
    "plt.colorbar(img)"
   ]
  },
  {
   "cell_type": "markdown",
   "metadata": {},
   "source": [
    "## Tests on Easy Linear-Chain\n",
    "\n",
    "Only adajcent nodes have binary potentials, which should have exact solution (Viterbi)."
   ]
  },
  {
   "cell_type": "code",
   "execution_count": 52,
   "metadata": {},
   "outputs": [],
   "source": [
    "EAXCT_LINEAR_CHAIN = 'EAXCT_LINEAR_CHAIN'\n",
    "CURRENT_CELL = EAXCT_LINEAR_CHAIN\n",
    "\n",
    "size = 25\n",
    "n_states = 32\n",
    "\n",
    "rnd = np.random.RandomState(2)\n",
    "unary_potentials = np.abs(rnd.normal(loc=0, scale=1, size=(size, n_states)))\n",
    "\n",
    "binary_edges = np.array([[i, i+1] for i in range(size - 1)])\n",
    "binary_potentials = np.abs(rnd.normal(loc=0, scale=2, size=(binary_edges.shape[0], n_states, n_states)))\n",
    "\n",
    "args = (unary_potentials, binary_potentials, binary_edges)\n",
    "E = partial(compute_energy_plus, *args)"
   ]
  },
  {
   "cell_type": "code",
   "execution_count": null,
   "metadata": {},
   "outputs": [],
   "source": [
    "assert CURRENT_CELL == EAXCT_LINEAR_CHAIN\n",
    "\n",
    "%timeit inference_max_product(*args)   # should be viterbi\n",
    "%timeit lbp_plus(*args)\n",
    "%timeit lbp_plus(*args, track_best=True)\n",
    "%timeit iterative_max_product(*args)\n",
    "%timeit inference_ad3(*args)"
   ]
  },
  {
   "cell_type": "code",
   "execution_count": 54,
   "metadata": {},
   "outputs": [
    {
     "name": "stdout",
     "output_type": "stream",
     "text": [
      "viterbi\n",
      "159.23176594447614\n",
      "159.23176594447614\n",
      "lbp\n",
      "151.6283895452923\n",
      "159.23176594447614\n",
      "155.95862844090834\n",
      "sequential lbp\n",
      "149.7208193940429\n",
      "155.95862844090834\n",
      "ad3\n",
      "159.23176594447614\n"
     ]
    }
   ],
   "source": [
    "assert CURRENT_CELL == EAXCT_LINEAR_CHAIN\n",
    "\n",
    "# benchmark on accuracy\n",
    "print(\"viterbi\")\n",
    "print(E(labels=inference_max_product(*args)))  # should be viterbi\n",
    "print(E(labels=tree_max_product(*args)))  # should be viterbi\n",
    "print(\"lbp\")\n",
    "print(E(labels=lbp_plus(*args)))\n",
    "print(E(labels=lbp_plus(*args, max_iter=30, track_best=True)))\n",
    "print(E(labels=lbp_plus(*args, track_best=True)))\n",
    "print(\"sequential lbp\")\n",
    "print(E(labels=iterative_max_product(*args)))\n",
    "print(E(labels=iterative_max_product(*args, track_best=True)))\n",
    "print(\"ad3\")\n",
    "print(E(labels=inference_ad3(*args)))"
   ]
  },
  {
   "cell_type": "code",
   "execution_count": 55,
   "metadata": {},
   "outputs": [
    {
     "data": {
      "text/plain": [
       "<matplotlib.legend.Legend at 0x7fab90d39410>"
      ]
     },
     "execution_count": 55,
     "metadata": {},
     "output_type": "execute_result"
    },
    {
     "data": {
      "image/png": "[encoded data removed]",
      "text/plain": [
       "<Figure size 432x288 with 1 Axes>"
      ]
     },
     "metadata": {
      "needs_background": "light"
     },
     "output_type": "display_data"
    }
   ],
   "source": [
    "assert CURRENT_CELL == EAXCT_LINEAR_CHAIN\n",
    "\n",
    "iter_nums = list(range(3, 30, 3))\n",
    "for damping in [0.3, 0.5, 0.7]:\n",
    "    energies = []\n",
    "    for iter_num in iter_nums:\n",
    "        energies.append(E(labels=lbp_plus(*args, max_iter=iter_num, damping=damping)))\n",
    "    plt.plot(iter_nums, energies, label=f'parallel, damping={damping}')\n",
    "\n",
    "energies = []\n",
    "for iter_num in iter_nums:\n",
    "    energies.append(E(labels=lbp_plus(*args, max_iter=iter_num, damping=0.5, track_best=True)))\n",
    "plt.plot(iter_nums, energies, label='parallel, trackbest')\n",
    "\n",
    "energies = []\n",
    "for iter_num in iter_nums:\n",
    "    energies.append(E(labels=iterative_max_product(*args, max_iter=iter_num)))\n",
    "plt.plot(iter_nums, energies, label='sequential')\n",
    "\n",
    "energies = []\n",
    "for iter_num in iter_nums:\n",
    "    energies.append(E(labels=iterative_max_product(*args, max_iter=iter_num, track_best=True)))\n",
    "plt.plot(iter_nums, energies, label='sequential, trackbest')\n",
    "\n",
    "plt.legend()"
   ]
  },
  {
   "cell_type": "code",
   "execution_count": 56,
   "metadata": {},
   "outputs": [
    {
     "name": "stdout",
     "output_type": "stream",
     "text": [
      "[ True  True  True  True  True  True  True  True  True  True  True  True\n",
      "  True  True  True False False False False False  True  True  True  True\n",
      "  True]\n",
      "[ True  True  True  True  True  True  True  True  True  True  True  True\n",
      "  True  True  True False False False False False  True  True  True  True\n",
      "  True]\n"
     ]
    }
   ],
   "source": [
    "assert CURRENT_CELL == EAXCT_LINEAR_CHAIN\n",
    "\n",
    "print(lbp_plus(*args, track_best=True) == inference_max_product(*args))\n",
    "print(iterative_max_product(*args, track_best=True) == inference_max_product(*args))"
   ]
  },
  {
   "cell_type": "markdown",
   "metadata": {},
   "source": [
    "## Tests on skip binary linear chain\n",
    "\n",
    "A-B-C-D-E\n",
    "\n",
    "- skip-0 binaries: A-B, B-C, ...\n",
    "- skip-1 binaries: A-C, B-D, ...\n",
    "- skip-2 binaries: A-D, B-E, ..."
   ]
  },
  {
   "cell_type": "code",
   "execution_count": 57,
   "metadata": {},
   "outputs": [],
   "source": [
    "SKIP_BINARY_LINEAR_CHAIN = 'SKIP_BINARY_LINEAR_CHAIN'\n",
    "CURRENT_CELL = SKIP_BINARY_LINEAR_CHAIN\n",
    "\n",
    "size = 25\n",
    "n_states = 32\n",
    "\n",
    "rnd = np.random.RandomState(2)\n",
    "unary_potentials = np.abs(rnd.normal(loc=0, scale=1, size=(size, n_states)))\n",
    "\n",
    "binary_edges = np.array(\n",
    "    [[i, i+1] for i in range(size - 1)] + #\n",
    "    [[i, i+2] for i in range(size - 2)] + #\n",
    "    [[i, i+3] for i in range(size - 3)] \n",
    ")\n",
    "binary_potentials = np.abs(rnd.normal(loc=0, scale=2, size=(binary_edges.shape[0], n_states, n_states))) * 2\n",
    "\n",
    "args = (unary_potentials, binary_potentials, binary_edges)\n",
    "E = partial(compute_energy_plus, *args)"
   ]
  },
  {
   "cell_type": "code",
   "execution_count": null,
   "metadata": {},
   "outputs": [],
   "source": [
    "assert CURRENT_CELL == SKIP_BINARY_LINEAR_CHAIN\n",
    "\n",
    "%timeit lbp_plus(*args)\n",
    "%timeit lbp_plus(*args, max_iter=30, track_best=True)\n",
    "%timeit iterative_max_product(*args)\n",
    "%timeit iterative_max_product(*args, max_iter=10, track_best=True)\n",
    "# %timeit inference_ad3(*args)"
   ]
  },
  {
   "cell_type": "code",
   "execution_count": 59,
   "metadata": {},
   "outputs": [
    {
     "name": "stdout",
     "output_type": "stream",
     "text": [
      "386.7405599796169\n",
      "lbp_plus\n",
      "436.2091113774191\n",
      "478.5143477593398\n",
      "522.3927807321705\n",
      "sequential lbp\n",
      "454.7447696096551\n",
      "486.25091105643554\n",
      "486.25091105643554\n",
      "503.9541958911937\n",
      "ad3\n",
      "407.3296470050889\n"
     ]
    }
   ],
   "source": [
    "assert CURRENT_CELL == SKIP_BINARY_LINEAR_CHAIN\n",
    "\n",
    "print(E(labels=lbp_plus(*args)))\n",
    "print(\"lbp_plus\")\n",
    "print(E(labels=lbp_plus(*args, track_best=True)))\n",
    "print(E(labels=lbp_plus(*args, max_iter=30, track_best=True)))\n",
    "print(E(labels=lbp_plus(*args, max_iter=60, track_best=True)))\n",
    "print(\"sequential lbp\")\n",
    "print(E(labels=iterative_max_product(*args)))\n",
    "print(E(labels=iterative_max_product(*args, track_best=True)))\n",
    "print(E(labels=iterative_max_product(*args, max_iter=30, track_best=True)))\n",
    "print(E(labels=iterative_max_product(*args, max_iter=60, track_best=True)))\n",
    "print(\"ad3\")\n",
    "print(E(labels=inference_ad3(*args)))"
   ]
  },
  {
   "cell_type": "code",
   "execution_count": 60,
   "metadata": {},
   "outputs": [
    {
     "data": {
      "text/plain": [
       "<matplotlib.legend.Legend at 0x7fab78335150>"
      ]
     },
     "execution_count": 60,
     "metadata": {},
     "output_type": "execute_result"
    },
    {
     "data": {
      "image/png": "[encoded data removed]",
      "text/plain": [
       "<Figure size 432x288 with 1 Axes>"
      ]
     },
     "metadata": {
      "needs_background": "light"
     },
     "output_type": "display_data"
    }
   ],
   "source": [
    "assert CURRENT_CELL == SKIP_BINARY_LINEAR_CHAIN\n",
    "\n",
    "iter_nums = list(range(3, 60, 3))\n",
    "for damping in [0.3, 0.5, 0.7]:\n",
    "    energies = []\n",
    "    for iter_num in iter_nums:\n",
    "        energies.append(E(labels=lbp_plus(*args, max_iter=iter_num, damping=damping)))\n",
    "    plt.plot(iter_nums, energies, label=f'parallel, damping={damping}')\n",
    "\n",
    "energies = []\n",
    "for iter_num in iter_nums:\n",
    "    energies.append(E(labels=lbp_plus(*args, max_iter=iter_num, damping=0.5, track_best=True)))\n",
    "plt.plot(iter_nums, energies, label='parallel, trackbest')\n",
    "    \n",
    "energies = []\n",
    "for iter_num in iter_nums:\n",
    "    energies.append(E(labels=iterative_max_product(*args, max_iter=iter_num)))\n",
    "plt.plot(iter_nums, energies, label='sequential')\n",
    "\n",
    "energies = []\n",
    "for iter_num in iter_nums:\n",
    "    energies.append(E(labels=iterative_max_product(*args, max_iter=iter_num, track_best=True)))\n",
    "plt.plot(iter_nums, energies, label='sequential')\n",
    "\n",
    "plt.legend()"
   ]
  },
  {
   "cell_type": "markdown",
   "metadata": {},
   "source": [
    "# Implementation of LBP with Ternary Potentials\n",
    "\n",
    "A-B-C-D-E\n",
    "\n",
    "- binaries: A-B, B-C, ...\n",
    "- ternaries: A-B-C, B-C-D, ..."
   ]
  },
  {
   "cell_type": "code",
   "execution_count": 137,
   "metadata": {},
   "outputs": [],
   "source": [
    "TERNARY_LINEAR_CHAIN = 'TERNARY_LINEAR_CHAIN'\n",
    "CURRENT_CELL = TERNARY_LINEAR_CHAIN\n",
    "\n",
    "\n",
    "size = 25\n",
    "n_states = 32\n",
    "\n",
    "rnd = np.random.RandomState(2)\n",
    "x = np.abs(rnd.normal(loc=0, scale=1, size=(size, size, n_states)))\n",
    "unary_potentials = x.reshape(-1, n_states)\n",
    "\n",
    "binary_edges = np.array([[i, i+1] for i in range(size - 1)])\n",
    "binary_potentials = np.abs(rnd.normal(loc=0, scale=2, size=(binary_edges.shape[0], n_states, n_states))) * 2\n",
    "\n",
    "ternary_edges = np.array([[i, i+1, i+2] for i in range(size - 2)])\n",
    "ternary_potentials = np.abs(rnd.normal(loc=0, scale=4, size=(ternary_edges.shape[0], n_states, n_states, n_states))) * 2\n"
   ]
  },
  {
   "cell_type": "code",
   "execution_count": 129,
   "metadata": {},
   "outputs": [
    {
     "ename": "ValueError",
     "evalue": "operands could not be broadcast together with shapes (24,) (16,) ",
     "output_type": "error",
     "traceback": [
      "\u001b[0;31m---------------------------------------------------------------------------\u001b[0m",
      "\u001b[0;31mValueError\u001b[0m                                Traceback (most recent call last)",
      "\u001b[0;32m/var/folders/25/281cbw014cg741_hygtfcz180000gp/T/ipykernel_56544/2752706818.py\u001b[0m in \u001b[0;36m<module>\u001b[0;34m\u001b[0m\n\u001b[1;32m     11\u001b[0m \u001b[0;34m\u001b[0m\u001b[0m\n\u001b[1;32m     12\u001b[0m \u001b[0mlabel_unary_binary_ternary\u001b[0m \u001b[0;34m=\u001b[0m \u001b[0mlbp_plus\u001b[0m\u001b[0;34m(\u001b[0m\u001b[0;34m*\u001b[0m\u001b[0mter_args\u001b[0m\u001b[0;34m,\u001b[0m \u001b[0mdamping\u001b[0m\u001b[0;34m=\u001b[0m\u001b[0;36m0.5\u001b[0m\u001b[0;34m)\u001b[0m\u001b[0;34m\u001b[0m\u001b[0;34m\u001b[0m\u001b[0m\n\u001b[0;32m---> 13\u001b[0;31m \u001b[0mprint\u001b[0m\u001b[0;34m(\u001b[0m\u001b[0;34m\"unary+binary+ternary\"\u001b[0m\u001b[0;34m,\u001b[0m \u001b[0mcompute_energy_plus\u001b[0m\u001b[0;34m(\u001b[0m\u001b[0;34m*\u001b[0m\u001b[0mter_args\u001b[0m\u001b[0;34m,\u001b[0m \u001b[0mlabel_unary_binary_ternary\u001b[0m\u001b[0;34m)\u001b[0m\u001b[0;34m)\u001b[0m\u001b[0;34m\u001b[0m\u001b[0;34m\u001b[0m\u001b[0m\n\u001b[0m\u001b[1;32m     14\u001b[0m \u001b[0;34m\u001b[0m\u001b[0m\n\u001b[1;32m     15\u001b[0m \u001b[0mlabel_unary_binary_ternary\u001b[0m \u001b[0;34m=\u001b[0m \u001b[0mlbp_plus\u001b[0m\u001b[0;34m(\u001b[0m\u001b[0;34m*\u001b[0m\u001b[0mter_args\u001b[0m\u001b[0;34m,\u001b[0m \u001b[0mmax_iter\u001b[0m\u001b[0;34m=\u001b[0m\u001b[0;36m10\u001b[0m\u001b[0;34m,\u001b[0m \u001b[0mdamping\u001b[0m\u001b[0;34m=\u001b[0m\u001b[0;36m0.5\u001b[0m\u001b[0;34m,\u001b[0m \u001b[0mtrack_best\u001b[0m\u001b[0;34m=\u001b[0m\u001b[0;32mTrue\u001b[0m\u001b[0;34m)\u001b[0m\u001b[0;34m\u001b[0m\u001b[0;34m\u001b[0m\u001b[0m\n",
      "\u001b[0;32m/var/folders/25/281cbw014cg741_hygtfcz180000gp/T/ipykernel_56544/951742689.py\u001b[0m in \u001b[0;36mcompute_energy_plus\u001b[0;34m(unary_potentials, binary_potentials, binary_edges, ternary_potentials, ternary_edges, labels)\u001b[0m\n\u001b[1;32m     12\u001b[0m     \u001b[0mbinary_edge_labels\u001b[0m \u001b[0;34m=\u001b[0m \u001b[0mlabels\u001b[0m\u001b[0;34m[\u001b[0m\u001b[0mbinary_edges\u001b[0m\u001b[0;34m]\u001b[0m\u001b[0;34m\u001b[0m\u001b[0;34m\u001b[0m\u001b[0m\n\u001b[1;32m     13\u001b[0m \u001b[0;34m\u001b[0m\u001b[0m\n\u001b[0;32m---> 14\u001b[0;31m     \u001b[0mfindex\u001b[0m \u001b[0;34m=\u001b[0m \u001b[0meinops\u001b[0m\u001b[0;34m.\u001b[0m\u001b[0mrearrange\u001b[0m\u001b[0;34m(\u001b[0m\u001b[0mbinary_edges\u001b[0m\u001b[0;34m[\u001b[0m\u001b[0;34m:\u001b[0m\u001b[0;34m,\u001b[0m \u001b[0;36m0\u001b[0m\u001b[0;34m]\u001b[0m \u001b[0;34m*\u001b[0m \u001b[0;36m16\u001b[0m \u001b[0;34m+\u001b[0m \u001b[0mindex\u001b[0m\u001b[0;34m[\u001b[0m\u001b[0;34m:\u001b[0m\u001b[0;34m,\u001b[0m \u001b[0;36m1\u001b[0m\u001b[0;34m]\u001b[0m\u001b[0;34m,\u001b[0m \u001b[0;34m\"B->B ()\"\u001b[0m\u001b[0;34m)\u001b[0m\u001b[0;34m\u001b[0m\u001b[0;34m\u001b[0m\u001b[0m\n\u001b[0m\u001b[1;32m     15\u001b[0m     \u001b[0mreal_score\u001b[0m \u001b[0;34m=\u001b[0m \u001b[0mgenops\u001b[0m\u001b[0;34m.\u001b[0m\u001b[0mgather\u001b[0m\u001b[0;34m(\u001b[0m\u001b[0mfscore\u001b[0m\u001b[0;34m,\u001b[0m \u001b[0maxis\u001b[0m\u001b[0;34m=\u001b[0m\u001b[0;36m1\u001b[0m\u001b[0;34m,\u001b[0m \u001b[0mindex\u001b[0m\u001b[0;34m=\u001b[0m\u001b[0mfindex\u001b[0m\u001b[0;34m)\u001b[0m\u001b[0;34m\u001b[0m\u001b[0;34m\u001b[0m\u001b[0m\n\u001b[1;32m     16\u001b[0m \u001b[0;34m\u001b[0m\u001b[0m\n",
      "\u001b[0;31mValueError\u001b[0m: operands could not be broadcast together with shapes (24,) (16,) "
     ]
    }
   ],
   "source": [
    "assert CURRENT_CELL == TERNARY_LINEAR_CHAIN\n",
    "\n",
    "unary_potentials = torch.tensor(unary_potentials, dtype=torch.float32)\n",
    "binary_potentials = torch.tensor(binary_potentials, dtype=torch.float32)\n",
    "ternary_potentials = torch.tensor(ternary_potentials, dtype=torch.float32)\n",
    "binary_edges = torch.tensor(binary_edges, dtype=torch.long)\n",
    "ternary_edges = torch.tensor(ternary_edges, dtype=torch.long)\n",
    "\n",
    "bin_args = (unary_potentials, binary_potentials, binary_edges)\n",
    "ter_args = (unary_potentials, binary_potentials, binary_edges, ternary_potentials, ternary_edges)\n",
    "\n",
    "label_unary_binary_ternary = lbp_plus(*ter_args, damping=0.5)\n",
    "print(\"unary+binary+ternary\", compute_energy_plus(*ter_args, label_unary_binary_ternary))\n",
    "\n",
    "label_unary_binary_ternary = lbp_plus(*ter_args, max_iter=10, damping=0.5, track_best=True)\n",
    "print(\"unary+binary+ternary\", compute_energy_plus(*ter_args, label_unary_binary_ternary))\n",
    "\n",
    "label_unary_binary_ternary = lbp_plus(*ter_args, max_iter=30, damping=0.5, track_best=True)\n",
    "print(\"unary+binary+ternary\", compute_energy_plus(*ter_args, label_unary_binary_ternary))"
   ]
  },
  {
   "cell_type": "code",
   "execution_count": 180,
   "metadata": {},
   "outputs": [
    {
     "name": "stdout",
     "output_type": "stream",
     "text": [
      "only consider binaries\n",
      "unary 1702.225360320403\n",
      "pystruct's maxprod 1815.7207334257919\n",
      "pystruct's ad3 1841.9226360193197\n",
      "unary+binary 1815.7207334257919\n",
      "consider ternaries\n",
      "unary+binary+ternary 2022.3128089477386\n",
      "unary+binary+ternary 2022.3128089477386\n",
      "unary+binary+ternary 2043.6646244334265\n"
     ]
    }
   ],
   "source": [
    "assert CURRENT_CELL == TERNARY_LINEAR_CHAIN\n",
    "\n",
    "genops.set_backend(genops.NUMPY)\n",
    "\n",
    "bin_args = (unary_potentials, binary_potentials, binary_edges)\n",
    "ter_args = (unary_potentials, binary_potentials, binary_edges, ternary_potentials, ternary_edges)\n",
    "\n",
    "print(\"only consider binaries\")\n",
    "\n",
    "label_unary = unary_potentials.argmax(axis=1)\n",
    "print(\"unary\", compute_energy_plus(*ter_args, label_unary))\n",
    "\n",
    "ps_maxprod = iterative_max_product(*bin_args)\n",
    "print(\"pystruct's maxprod\", compute_energy_plus(*ter_args, ps_maxprod))\n",
    "\n",
    "ps_ad3 = inference_ad3(*bin_args)\n",
    "print(\"pystruct's ad3\", compute_energy_plus(*ter_args, ps_ad3))\n",
    "\n",
    "label_unary_binary = lbp_plus(*bin_args)\n",
    "print(\"unary+binary\", compute_energy_plus(*ter_args, label_unary_binary))\n",
    "\n",
    "print(\"consider ternaries\")\n",
    "\n",
    "label_unary_binary_ternary = lbp_plus(*ter_args, damping=0.5)\n",
    "print(\"unary+binary+ternary\", compute_energy_plus(*ter_args, label_unary_binary_ternary))\n",
    "\n",
    "label_unary_binary_ternary = lbp_plus(*ter_args, max_iter=10, damping=0.5, track_best=True)\n",
    "print(\"unary+binary+ternary\", compute_energy_plus(*ter_args, label_unary_binary_ternary))\n",
    "\n",
    "label_unary_binary_ternary = lbp_plus(*ter_args, max_iter=30, damping=0.5, track_best=True)\n",
    "print(\"unary+binary+ternary\", compute_energy_plus(*ter_args, label_unary_binary_ternary))\n"
   ]
  }
 ],
 "metadata": {
  "interpreter": {
   "hash": "26e7100929c5974aafe5d65382914e883abf933defba9fccc362b643f50b42c7"
  },
  "kernelspec": {
   "display_name": "Python 3.7.11 ('pystruct3.7')",
   "language": "python",
   "name": "python3"
  },
  "language_info": {
   "codemirror_mode": {
    "name": "ipython",
    "version": 3
   },
   "file_extension": ".py",
   "mimetype": "text/x-python",
   "name": "python",
   "nbconvert_exporter": "python",
   "pygments_lexer": "ipython3",
   "version": "3.7.11"
  },
  "orig_nbformat": 4
 },
 "nbformat": 4,
 "nbformat_minor": 2
}

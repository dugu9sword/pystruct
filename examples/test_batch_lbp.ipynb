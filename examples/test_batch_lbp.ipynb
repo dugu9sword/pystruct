{
 "cells": [
  {
   "cell_type": "code",
   "execution_count": 1,
   "metadata": {},
   "outputs": [],
   "source": [
    "%load_ext autoreload\n",
    "%autoreload 2"
   ]
  },
  {
   "cell_type": "code",
   "execution_count": 2,
   "metadata": {},
   "outputs": [],
   "source": [
    "import genops\n",
    "from pystruct.utils import make_grid_edges, generate_binary_edges\n",
    "from pystruct.inference.lbp import lbp_plus, compute_energy_plus\n",
    "from pystruct.inference.batch_lbp import batch_lbp\n",
    "from lunanlp import batch_pad, batch_mask_by_len, batch_lens, chain"
   ]
  },
  {
   "cell_type": "markdown",
   "metadata": {},
   "source": [
    "Here we construct a batch of sentences, whose lengths are `[10, 8, 5]`.\n",
    "\n",
    "For each sentence whose length is $n$:\n",
    "\n",
    "- the number of unary potentials is $n$\n",
    "\n",
    "- the number of binary potentials is $n-1$"
   ]
  },
  {
   "cell_type": "code",
   "execution_count": 3,
   "metadata": {},
   "outputs": [],
   "source": [
    "n_states = 7\n",
    "sizes = (15, 12, 11, 13)\n",
    "# sizes = np.random.randint(5, 20, size=(3))\n",
    "bsz = len(sizes)\n",
    "max_1_size = max(sizes)\n",
    "max_2_size = max_1_size - 1\n",
    "\n",
    "genops.set_backend(genops.TORCH)\n",
    "genops.set_printoptions(precision=2)\n",
    "\n",
    "b1_phis = genops.normal(shape=(bsz, max_1_size, n_states))\n",
    "b1_masks = genops.tensor(batch_mask_by_len(sizes)).bool()\n",
    "\n",
    "edges = [generate_binary_edges(size, 2) for size in sizes]\n",
    "b2_edges = genops.tensor(batch_pad(edges, pad_ele=(0, 0)))\n",
    "b2_phis = genops.normal(shape=(bsz, b2_edges.shape[1], n_states, n_states))\n",
    "b2_masks = genops.tensor(batch_mask_by_len(batch_lens(edges))).bool()\n"
   ]
  },
  {
   "cell_type": "code",
   "execution_count": 7,
   "metadata": {},
   "outputs": [],
   "source": [
    "def sequential_lbp():\n",
    "    ret = []\n",
    "    for i in range(bsz):\n",
    "        ret.append(lbp_plus(\n",
    "            unary_potentials=b1_phis[i][:b1_masks.sum(-1)[i]],\n",
    "            binary_potentials=b2_phis[i][:b2_masks.sum(-1)[i]],\n",
    "            binary_edges=b2_edges[i][:b2_masks.sum(-1)[i]],\n",
    "        ))\n",
    "    return ret"
   ]
  },
  {
   "cell_type": "code",
   "execution_count": 8,
   "metadata": {},
   "outputs": [
    {
     "name": "stdout",
     "output_type": "stream",
     "text": [
      "tensor([[ 4,  0,  1,  1,  5,  3,  0,  6,  3,  2,  0,  5,  6,  0,  6],\n",
      "        [ 6,  4,  3,  1,  5,  2,  3,  2,  0,  4,  1,  0, -1, -1, -1],\n",
      "        [ 6,  0,  5,  4,  6,  0,  0,  5,  3,  3,  6, -1, -1, -1, -1],\n",
      "        [ 3,  2,  1,  0,  2,  0,  2,  0,  5,  4,  2,  3,  3, -1, -1]])\n",
      "[tensor([4, 0, 1, 1, 5, 3, 0, 6, 3, 2, 0, 5, 6, 0, 6]), tensor([6, 4, 3, 1, 5, 2, 3, 2, 0, 4, 1, 0]), tensor([6, 0, 5, 4, 6, 0, 0, 5, 3, 3, 6]), tensor([3, 2, 1, 0, 2, 0, 2, 0, 5, 4, 2, 3, 3])]\n"
     ]
    }
   ],
   "source": [
    "_, ret = batch_lbp(\n",
    "    bat_unary_potentials=b1_phis,  #\n",
    "    bat_unary_masks=b1_masks,\n",
    "    bat_binary_potentials=b2_phis,\n",
    "    bat_binary_masks=b2_masks,\n",
    "    bat_binary_edges=b2_edges)\n",
    "print(ret)\n",
    "\n",
    "print(sequential_lbp())"
   ]
  },
  {
   "cell_type": "code",
   "execution_count": 25,
   "metadata": {},
   "outputs": [
    {
     "name": "stdout",
     "output_type": "stream",
     "text": [
      "10.1 ms ± 1.65 ms per loop (mean ± std. dev. of 7 runs, 10 loops each)\n"
     ]
    }
   ],
   "source": [
    "%%timeit -n10\n",
    "batch_lbp(\n",
    "    bat_unary_potentials=b1_phis,\n",
    "    bat_unary_masks=b1_masks,\n",
    "    bat_binary_potentials=b2_phis,\n",
    "    bat_binary_masks=b2_masks,\n",
    "    bat_binary_edges=b2_edges\n",
    ")"
   ]
  },
  {
   "cell_type": "code",
   "execution_count": 26,
   "metadata": {},
   "outputs": [
    {
     "name": "stdout",
     "output_type": "stream",
     "text": [
      "21.7 ms ± 2.06 ms per loop (mean ± std. dev. of 7 runs, 10 loops each)\n"
     ]
    }
   ],
   "source": [
    "%%timeit -n10\n",
    "sequential_lbp()"
   ]
  }
 ],
 "metadata": {
  "interpreter": {
   "hash": "26e7100929c5974aafe5d65382914e883abf933defba9fccc362b643f50b42c7"
  },
  "kernelspec": {
   "display_name": "Python 3.7.11 ('pystruct3.7')",
   "language": "python",
   "name": "python3"
  },
  "language_info": {
   "codemirror_mode": {
    "name": "ipython",
    "version": 3
   },
   "file_extension": ".py",
   "mimetype": "text/x-python",
   "name": "python",
   "nbconvert_exporter": "python",
   "pygments_lexer": "ipython3",
   "version": "3.7.11"
  },
  "orig_nbformat": 4
 },
 "nbformat": 4,
 "nbformat_minor": 2
}
